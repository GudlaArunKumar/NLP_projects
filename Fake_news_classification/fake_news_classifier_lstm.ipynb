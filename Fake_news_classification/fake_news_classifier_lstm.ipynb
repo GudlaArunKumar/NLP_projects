{
  "nbformat": 4,
  "nbformat_minor": 5,
  "metadata": {
    "accelerator": "GPU",
    "colab": {
      "name": "fake_news_classifier_lstm.ipynb",
      "provenance": [],
      "collapsed_sections": []
    },
    "kernelspec": {
      "display_name": "Python 3",
      "language": "python",
      "name": "python3"
    },
    "language_info": {
      "codemirror_mode": {
        "name": "ipython",
        "version": 3
      },
      "file_extension": ".py",
      "mimetype": "text/x-python",
      "name": "python",
      "nbconvert_exporter": "python",
      "pygments_lexer": "ipython3",
      "version": "3.8.8"
    }
  },
  "cells": [
    {
      "cell_type": "markdown",
      "metadata": {
        "id": "8ad64474"
      },
      "source": [
        "# Fake News Classifier using NLP and Deep Leanring\n",
        "\n",
        "Dataset from kaggle: https://www.kaggle.com/c/fake-news/data"
      ],
      "id": "8ad64474"
    },
    {
      "cell_type": "code",
      "metadata": {
        "id": "56277914"
      },
      "source": [
        "import pandas as pd"
      ],
      "id": "56277914",
      "execution_count": 2,
      "outputs": []
    },
    {
      "cell_type": "code",
      "metadata": {
        "colab": {
          "base_uri": "https://localhost:8080/",
          "height": 205
        },
        "id": "ba4ed641",
        "outputId": "ce0bb712-5276-4b8c-af94-aad4ad15c3e9"
      },
      "source": [
        "df = pd.read_csv('/content/train.csv')\n",
        "df.head()"
      ],
      "id": "ba4ed641",
      "execution_count": 3,
      "outputs": [
        {
          "output_type": "execute_result",
          "data": {
            "text/html": [
              "<div>\n",
              "<style scoped>\n",
              "    .dataframe tbody tr th:only-of-type {\n",
              "        vertical-align: middle;\n",
              "    }\n",
              "\n",
              "    .dataframe tbody tr th {\n",
              "        vertical-align: top;\n",
              "    }\n",
              "\n",
              "    .dataframe thead th {\n",
              "        text-align: right;\n",
              "    }\n",
              "</style>\n",
              "<table border=\"1\" class=\"dataframe\">\n",
              "  <thead>\n",
              "    <tr style=\"text-align: right;\">\n",
              "      <th></th>\n",
              "      <th>id</th>\n",
              "      <th>title</th>\n",
              "      <th>author</th>\n",
              "      <th>text</th>\n",
              "      <th>label</th>\n",
              "    </tr>\n",
              "  </thead>\n",
              "  <tbody>\n",
              "    <tr>\n",
              "      <th>0</th>\n",
              "      <td>0</td>\n",
              "      <td>House Dem Aide: We Didn’t Even See Comey’s Let...</td>\n",
              "      <td>Darrell Lucus</td>\n",
              "      <td>House Dem Aide: We Didn’t Even See Comey’s Let...</td>\n",
              "      <td>1</td>\n",
              "    </tr>\n",
              "    <tr>\n",
              "      <th>1</th>\n",
              "      <td>1</td>\n",
              "      <td>FLYNN: Hillary Clinton, Big Woman on Campus - ...</td>\n",
              "      <td>Daniel J. Flynn</td>\n",
              "      <td>Ever get the feeling your life circles the rou...</td>\n",
              "      <td>0</td>\n",
              "    </tr>\n",
              "    <tr>\n",
              "      <th>2</th>\n",
              "      <td>2</td>\n",
              "      <td>Why the Truth Might Get You Fired</td>\n",
              "      <td>Consortiumnews.com</td>\n",
              "      <td>Why the Truth Might Get You Fired October 29, ...</td>\n",
              "      <td>1</td>\n",
              "    </tr>\n",
              "    <tr>\n",
              "      <th>3</th>\n",
              "      <td>3</td>\n",
              "      <td>15 Civilians Killed In Single US Airstrike Hav...</td>\n",
              "      <td>Jessica Purkiss</td>\n",
              "      <td>Videos 15 Civilians Killed In Single US Airstr...</td>\n",
              "      <td>1</td>\n",
              "    </tr>\n",
              "    <tr>\n",
              "      <th>4</th>\n",
              "      <td>4</td>\n",
              "      <td>Iranian woman jailed for fictional unpublished...</td>\n",
              "      <td>Howard Portnoy</td>\n",
              "      <td>Print \\nAn Iranian woman has been sentenced to...</td>\n",
              "      <td>1</td>\n",
              "    </tr>\n",
              "  </tbody>\n",
              "</table>\n",
              "</div>"
            ],
            "text/plain": [
              "   id  ... label\n",
              "0   0  ...     1\n",
              "1   1  ...     0\n",
              "2   2  ...     1\n",
              "3   3  ...     1\n",
              "4   4  ...     1\n",
              "\n",
              "[5 rows x 5 columns]"
            ]
          },
          "metadata": {
            "tags": []
          },
          "execution_count": 3
        }
      ]
    },
    {
      "cell_type": "code",
      "metadata": {
        "id": "TRrd7ra3hQ-e"
      },
      "source": [
        "# Drop NA values\n",
        "df.dropna(inplace=True)"
      ],
      "id": "TRrd7ra3hQ-e",
      "execution_count": 4,
      "outputs": []
    },
    {
      "cell_type": "code",
      "metadata": {
        "colab": {
          "base_uri": "https://localhost:8080/",
          "height": 205
        },
        "id": "fd8024ac",
        "outputId": "fafe0954-98ac-430a-98ca-7e20b5adf6e3"
      },
      "source": [
        "# Getting independent features\n",
        "\n",
        "X = df.drop(['label'],axis=1)\n",
        "X.head()"
      ],
      "id": "fd8024ac",
      "execution_count": 5,
      "outputs": [
        {
          "output_type": "execute_result",
          "data": {
            "text/html": [
              "<div>\n",
              "<style scoped>\n",
              "    .dataframe tbody tr th:only-of-type {\n",
              "        vertical-align: middle;\n",
              "    }\n",
              "\n",
              "    .dataframe tbody tr th {\n",
              "        vertical-align: top;\n",
              "    }\n",
              "\n",
              "    .dataframe thead th {\n",
              "        text-align: right;\n",
              "    }\n",
              "</style>\n",
              "<table border=\"1\" class=\"dataframe\">\n",
              "  <thead>\n",
              "    <tr style=\"text-align: right;\">\n",
              "      <th></th>\n",
              "      <th>id</th>\n",
              "      <th>title</th>\n",
              "      <th>author</th>\n",
              "      <th>text</th>\n",
              "    </tr>\n",
              "  </thead>\n",
              "  <tbody>\n",
              "    <tr>\n",
              "      <th>0</th>\n",
              "      <td>0</td>\n",
              "      <td>House Dem Aide: We Didn’t Even See Comey’s Let...</td>\n",
              "      <td>Darrell Lucus</td>\n",
              "      <td>House Dem Aide: We Didn’t Even See Comey’s Let...</td>\n",
              "    </tr>\n",
              "    <tr>\n",
              "      <th>1</th>\n",
              "      <td>1</td>\n",
              "      <td>FLYNN: Hillary Clinton, Big Woman on Campus - ...</td>\n",
              "      <td>Daniel J. Flynn</td>\n",
              "      <td>Ever get the feeling your life circles the rou...</td>\n",
              "    </tr>\n",
              "    <tr>\n",
              "      <th>2</th>\n",
              "      <td>2</td>\n",
              "      <td>Why the Truth Might Get You Fired</td>\n",
              "      <td>Consortiumnews.com</td>\n",
              "      <td>Why the Truth Might Get You Fired October 29, ...</td>\n",
              "    </tr>\n",
              "    <tr>\n",
              "      <th>3</th>\n",
              "      <td>3</td>\n",
              "      <td>15 Civilians Killed In Single US Airstrike Hav...</td>\n",
              "      <td>Jessica Purkiss</td>\n",
              "      <td>Videos 15 Civilians Killed In Single US Airstr...</td>\n",
              "    </tr>\n",
              "    <tr>\n",
              "      <th>4</th>\n",
              "      <td>4</td>\n",
              "      <td>Iranian woman jailed for fictional unpublished...</td>\n",
              "      <td>Howard Portnoy</td>\n",
              "      <td>Print \\nAn Iranian woman has been sentenced to...</td>\n",
              "    </tr>\n",
              "  </tbody>\n",
              "</table>\n",
              "</div>"
            ],
            "text/plain": [
              "   id  ...                                               text\n",
              "0   0  ...  House Dem Aide: We Didn’t Even See Comey’s Let...\n",
              "1   1  ...  Ever get the feeling your life circles the rou...\n",
              "2   2  ...  Why the Truth Might Get You Fired October 29, ...\n",
              "3   3  ...  Videos 15 Civilians Killed In Single US Airstr...\n",
              "4   4  ...  Print \\nAn Iranian woman has been sentenced to...\n",
              "\n",
              "[5 rows x 4 columns]"
            ]
          },
          "metadata": {
            "tags": []
          },
          "execution_count": 5
        }
      ]
    },
    {
      "cell_type": "code",
      "metadata": {
        "id": "mplpCxxLhh_m"
      },
      "source": [
        "# Get dependent feature\n",
        "y = df['label']"
      ],
      "id": "mplpCxxLhh_m",
      "execution_count": 6,
      "outputs": []
    },
    {
      "cell_type": "code",
      "metadata": {
        "colab": {
          "base_uri": "https://localhost:8080/"
        },
        "id": "f14vyAuQhm45",
        "outputId": "81d422dd-8600-410d-8834-94729c88baa1"
      },
      "source": [
        "X.shape, y.shape"
      ],
      "id": "f14vyAuQhm45",
      "execution_count": 7,
      "outputs": [
        {
          "output_type": "execute_result",
          "data": {
            "text/plain": [
              "((18285, 4), (18285,))"
            ]
          },
          "metadata": {
            "tags": []
          },
          "execution_count": 7
        }
      ]
    },
    {
      "cell_type": "code",
      "metadata": {
        "id": "njIiLrW7hok4"
      },
      "source": [
        "import tensorflow as tf\n",
        "from tensorflow.keras.layers import Embedding, LSTM, Dense\n",
        "from tensorflow.keras.preprocessing.text import one_hot\n",
        "from tensorflow.keras.models import Sequential\n",
        "from tensorflow.keras.preprocessing.sequence import pad_sequences"
      ],
      "id": "njIiLrW7hok4",
      "execution_count": 8,
      "outputs": []
    },
    {
      "cell_type": "code",
      "metadata": {
        "id": "3LbeBVYxiFEV"
      },
      "source": [
        "# Setting up vocab size\n",
        "voc_size = 5000 # assuming text of any article is less then 5k"
      ],
      "id": "3LbeBVYxiFEV",
      "execution_count": 9,
      "outputs": []
    },
    {
      "cell_type": "markdown",
      "metadata": {
        "id": "Qu5JqIdsjpCW"
      },
      "source": [
        "## One hot representation \n",
        "\n",
        "Finding indexes of word in vocabulary for each sentence\n"
      ],
      "id": "Qu5JqIdsjpCW"
    },
    {
      "cell_type": "code",
      "metadata": {
        "id": "4uUrZcAgjbb7"
      },
      "source": [
        "messages = X.copy()"
      ],
      "id": "4uUrZcAgjbb7",
      "execution_count": 13,
      "outputs": []
    },
    {
      "cell_type": "code",
      "metadata": {
        "id": "JDzb21Jgj84p"
      },
      "source": [
        "messages.reset_index(drop=True,inplace=True)"
      ],
      "id": "JDzb21Jgj84p",
      "execution_count": 14,
      "outputs": []
    },
    {
      "cell_type": "code",
      "metadata": {
        "id": "UEat-nFvj_8m"
      },
      "source": [
        "import nltk\n",
        "import re\n",
        "from nltk.corpus import stopwords"
      ],
      "id": "UEat-nFvj_8m",
      "execution_count": 17,
      "outputs": []
    },
    {
      "cell_type": "code",
      "metadata": {
        "colab": {
          "base_uri": "https://localhost:8080/"
        },
        "id": "crFwqSy9kJN1",
        "outputId": "e17d0656-39c0-4067-d3d3-f00e4642021f"
      },
      "source": [
        "nltk.download('stopwords')"
      ],
      "id": "crFwqSy9kJN1",
      "execution_count": 16,
      "outputs": [
        {
          "output_type": "stream",
          "text": [
            "[nltk_data] Downloading package stopwords to /root/nltk_data...\n",
            "[nltk_data]   Unzipping corpora/stopwords.zip.\n"
          ],
          "name": "stdout"
        },
        {
          "output_type": "execute_result",
          "data": {
            "text/plain": [
              "True"
            ]
          },
          "metadata": {
            "tags": []
          },
          "execution_count": 16
        }
      ]
    },
    {
      "cell_type": "code",
      "metadata": {
        "id": "LYNVC-C_kMqA"
      },
      "source": [
        "### Dataset Preprocessing\n",
        "\n",
        "from nltk.stem.porter import PorterStemmer\n",
        "ps = PorterStemmer()\n",
        "corpus = []\n",
        "for i in range(0, len(messages)):\n",
        "    review = re.sub('[^a-zA-Z]', ' ', messages['text'][i])\n",
        "    review = review.lower()\n",
        "    review = review.split()\n",
        "    \n",
        "    review = [ps.stem(word) for word in review if word not in stopwords.words('english')]\n",
        "    review = ' '.join(review)\n",
        "    corpus.append(review)"
      ],
      "id": "LYNVC-C_kMqA",
      "execution_count": 18,
      "outputs": []
    },
    {
      "cell_type": "code",
      "metadata": {
        "id": "mdIXcZf3kgmX"
      },
      "source": [
        "# one hot representation \n",
        "onehot_repr = [one_hot(words,voc_size) for words in corpus]\n",
        "onehot_repr[:10]"
      ],
      "id": "mdIXcZf3kgmX",
      "execution_count": null,
      "outputs": []
    },
    {
      "cell_type": "code",
      "metadata": {
        "colab": {
          "base_uri": "https://localhost:8080/"
        },
        "id": "0gDo8sqRqrhL",
        "outputId": "dc27c548-6128-4731-a0e9-2c7ed46cd9e7"
      },
      "source": [
        "max_sent_length = [len(word) for word in onehot_repr]\n",
        "print(max(max_sent_length))"
      ],
      "id": "0gDo8sqRqrhL",
      "execution_count": 23,
      "outputs": [
        {
          "output_type": "stream",
          "text": [
            "12059\n"
          ],
          "name": "stdout"
        }
      ]
    },
    {
      "cell_type": "markdown",
      "metadata": {
        "id": "v6JWIDR0qW0K"
      },
      "source": [
        "## Embedding representation\n",
        "\n",
        "Padding the sequences since each sentence in the article is of different length"
      ],
      "id": "v6JWIDR0qW0K"
    },
    {
      "cell_type": "code",
      "metadata": {
        "colab": {
          "base_uri": "https://localhost:8080/"
        },
        "id": "c94Fb8bDqTfY",
        "outputId": "e643bbca-90f0-4b54-890c-b465ee3521ac"
      },
      "source": [
        "sent_length = 12060\n",
        "\n",
        "embedded_docs = pad_sequences(onehot_repr,padding='pre', maxlen=sent_length)\n",
        "print(embedded_docs)"
      ],
      "id": "c94Fb8bDqTfY",
      "execution_count": 24,
      "outputs": [
        {
          "output_type": "stream",
          "text": [
            "[[   0    0    0 ...  606 1343 2240]\n",
            " [   0    0    0 ... 4399  283 1701]\n",
            " [   0    0    0 ... 1838 4073 3538]\n",
            " ...\n",
            " [   0    0    0 ... 1308 3359 2574]\n",
            " [   0    0    0 ... 3828 3010 2363]\n",
            " [   0    0    0 ...  603 1467  881]]\n"
          ],
          "name": "stdout"
        }
      ]
    },
    {
      "cell_type": "code",
      "metadata": {
        "colab": {
          "base_uri": "https://localhost:8080/"
        },
        "id": "QmW0w9ELsDnf",
        "outputId": "3c828b9e-9ac2-4754-f765-6624c77931d9"
      },
      "source": [
        "embedded_docs[0]"
      ],
      "id": "QmW0w9ELsDnf",
      "execution_count": 26,
      "outputs": [
        {
          "output_type": "execute_result",
          "data": {
            "text/plain": [
              "array([   0,    0,    0, ...,  606, 1343, 2240], dtype=int32)"
            ]
          },
          "metadata": {
            "tags": []
          },
          "execution_count": 26
        }
      ]
    },
    {
      "cell_type": "code",
      "metadata": {
        "colab": {
          "base_uri": "https://localhost:8080/"
        },
        "id": "lNcxpx-3rkJJ",
        "outputId": "6eb44f79-9516-4aa0-ede3-f872305a0bed"
      },
      "source": [
        "len(embedded_docs) # to be trained on model"
      ],
      "id": "lNcxpx-3rkJJ",
      "execution_count": 25,
      "outputs": [
        {
          "output_type": "execute_result",
          "data": {
            "text/plain": [
              "18285"
            ]
          },
          "metadata": {
            "tags": []
          },
          "execution_count": 25
        }
      ]
    },
    {
      "cell_type": "code",
      "metadata": {
        "colab": {
          "base_uri": "https://localhost:8080/"
        },
        "id": "ulH-C2Z6rooS",
        "outputId": "21d400c8-ee2f-4f0f-aa3e-243a8045d1aa"
      },
      "source": [
        "# Creating model\n",
        "embedding_model_features = 100\n",
        "\n",
        "model = Sequential()\n",
        "model.add(Embedding(voc_size, embedding_model_features, input_length=sent_length))\n",
        "model.add(LSTM(200))\n",
        "model.add(Dense(1,activation='sigmoid'))\n",
        "model.compile(optimizer='adam', loss='binary_crossentropy', metrics=['accuracy'])\n",
        "\n",
        "model.summary()\n"
      ],
      "id": "ulH-C2Z6rooS",
      "execution_count": 27,
      "outputs": [
        {
          "output_type": "stream",
          "text": [
            "Model: \"sequential\"\n",
            "_________________________________________________________________\n",
            "Layer (type)                 Output Shape              Param #   \n",
            "=================================================================\n",
            "embedding (Embedding)        (None, 12060, 100)        500000    \n",
            "_________________________________________________________________\n",
            "lstm (LSTM)                  (None, 200)               240800    \n",
            "_________________________________________________________________\n",
            "dense (Dense)                (None, 1)                 201       \n",
            "=================================================================\n",
            "Total params: 741,001\n",
            "Trainable params: 741,001\n",
            "Non-trainable params: 0\n",
            "_________________________________________________________________\n"
          ],
          "name": "stdout"
        }
      ]
    },
    {
      "cell_type": "code",
      "metadata": {
        "id": "J-fCWiDRtBP9"
      },
      "source": [
        "# Splitting the dataset\n",
        "\n",
        "import numpy as np\n",
        "\n",
        "X_final = np.array(embedded_docs)\n",
        "y_final = np.array(y)\n",
        "\n",
        "from sklearn.model_selection import train_test_split\n",
        "X_train, X_test, y_train, y_test = train_test_split(X_final, y_final, test_size=0.33, random_state=42)\n"
      ],
      "id": "J-fCWiDRtBP9",
      "execution_count": 29,
      "outputs": []
    },
    {
      "cell_type": "code",
      "metadata": {
        "colab": {
          "base_uri": "https://localhost:8080/"
        },
        "id": "u8H0PLFst6J1",
        "outputId": "5b11ed51-7fac-467c-a085-cd5b303a6d2d"
      },
      "source": [
        "X_train.shape, X_test.shape, y_train.shape"
      ],
      "id": "u8H0PLFst6J1",
      "execution_count": 30,
      "outputs": [
        {
          "output_type": "execute_result",
          "data": {
            "text/plain": [
              "((12250, 12060), (6035, 12060), (12250,))"
            ]
          },
          "metadata": {
            "tags": []
          },
          "execution_count": 30
        }
      ]
    },
    {
      "cell_type": "markdown",
      "metadata": {
        "id": "-pCMbudEutv5"
      },
      "source": [
        "## Training the model"
      ],
      "id": "-pCMbudEutv5"
    },
    {
      "cell_type": "code",
      "metadata": {
        "colab": {
          "base_uri": "https://localhost:8080/"
        },
        "id": "Usm4WmsmuMLN",
        "outputId": "33f55bf3-8648-422a-ddcb-e9d74926df82"
      },
      "source": [
        "model.fit(X_train, y_train, validation_data=(X_test, y_test), epochs=10, verbose=1, batch_size=64)"
      ],
      "id": "Usm4WmsmuMLN",
      "execution_count": 31,
      "outputs": [
        {
          "output_type": "stream",
          "text": [
            "Epoch 1/10\n",
            "192/192 [==============================] - 210s 1s/step - loss: 0.3896 - accuracy: 0.8064 - val_loss: 0.3822 - val_accuracy: 0.8212\n",
            "Epoch 2/10\n",
            "192/192 [==============================] - 203s 1s/step - loss: 0.2018 - accuracy: 0.9214 - val_loss: 0.2989 - val_accuracy: 0.8830\n",
            "Epoch 3/10\n",
            "192/192 [==============================] - 203s 1s/step - loss: 0.1420 - accuracy: 0.9487 - val_loss: 0.2480 - val_accuracy: 0.9056\n",
            "Epoch 4/10\n",
            "192/192 [==============================] - 202s 1s/step - loss: 0.1309 - accuracy: 0.9513 - val_loss: 0.3232 - val_accuracy: 0.8880\n",
            "Epoch 5/10\n",
            "192/192 [==============================] - 203s 1s/step - loss: 0.0776 - accuracy: 0.9731 - val_loss: 0.2895 - val_accuracy: 0.9032\n",
            "Epoch 6/10\n",
            "192/192 [==============================] - 203s 1s/step - loss: 0.0990 - accuracy: 0.9612 - val_loss: 0.2929 - val_accuracy: 0.9170\n",
            "Epoch 7/10\n",
            "192/192 [==============================] - 203s 1s/step - loss: 0.0407 - accuracy: 0.9869 - val_loss: 0.3420 - val_accuracy: 0.9130\n",
            "Epoch 8/10\n",
            "192/192 [==============================] - 202s 1s/step - loss: 0.0224 - accuracy: 0.9939 - val_loss: 0.5113 - val_accuracy: 0.8802\n",
            "Epoch 9/10\n",
            "192/192 [==============================] - 202s 1s/step - loss: 0.0148 - accuracy: 0.9962 - val_loss: 0.4648 - val_accuracy: 0.9047\n",
            "Epoch 10/10\n",
            "192/192 [==============================] - 202s 1s/step - loss: 0.0072 - accuracy: 0.9981 - val_loss: 0.4936 - val_accuracy: 0.9037\n"
          ],
          "name": "stdout"
        },
        {
          "output_type": "execute_result",
          "data": {
            "text/plain": [
              "<tensorflow.python.keras.callbacks.History at 0x7f36c01097d0>"
            ]
          },
          "metadata": {
            "tags": []
          },
          "execution_count": 31
        }
      ]
    },
    {
      "cell_type": "code",
      "metadata": {
        "colab": {
          "base_uri": "https://localhost:8080/"
        },
        "id": "F4I9uPKTu7uj",
        "outputId": "81af210f-fa37-4209-c375-1503e55fdd25"
      },
      "source": [
        "model.save('/content/drive/MyDrive/fake_news_lstm_model')"
      ],
      "id": "F4I9uPKTu7uj",
      "execution_count": 34,
      "outputs": [
        {
          "output_type": "stream",
          "text": [
            "WARNING:absl:Found untraced functions such as lstm_cell_layer_call_and_return_conditional_losses, lstm_cell_layer_call_fn, lstm_cell_layer_call_fn, lstm_cell_layer_call_and_return_conditional_losses, lstm_cell_layer_call_and_return_conditional_losses while saving (showing 5 of 5). These functions will not be directly callable after loading.\n"
          ],
          "name": "stderr"
        },
        {
          "output_type": "stream",
          "text": [
            "INFO:tensorflow:Assets written to: /content/drive/MyDrive/fake_news_lstm_model/assets\n"
          ],
          "name": "stdout"
        },
        {
          "output_type": "stream",
          "text": [
            "INFO:tensorflow:Assets written to: /content/drive/MyDrive/fake_news_lstm_model/assets\n"
          ],
          "name": "stderr"
        }
      ]
    },
    {
      "cell_type": "code",
      "metadata": {
        "colab": {
          "base_uri": "https://localhost:8080/"
        },
        "id": "rjrBXx2o00U8",
        "outputId": "3937a8b1-ecf2-4a7b-8fce-9caf7dda6a36"
      },
      "source": [
        "# predicting on test set\n",
        "from sklearn import metrics\n",
        "\n",
        "pred = model.predict_classes(X_test)"
      ],
      "id": "rjrBXx2o00U8",
      "execution_count": 35,
      "outputs": [
        {
          "output_type": "stream",
          "text": [
            "/usr/local/lib/python3.7/dist-packages/tensorflow/python/keras/engine/sequential.py:455: UserWarning: `model.predict_classes()` is deprecated and will be removed after 2021-01-01. Please use instead:* `np.argmax(model.predict(x), axis=-1)`,   if your model does multi-class classification   (e.g. if it uses a `softmax` last-layer activation).* `(model.predict(x) > 0.5).astype(\"int32\")`,   if your model does binary classification   (e.g. if it uses a `sigmoid` last-layer activation).\n",
            "  warnings.warn('`model.predict_classes()` is deprecated and '\n"
          ],
          "name": "stderr"
        }
      ]
    },
    {
      "cell_type": "code",
      "metadata": {
        "colab": {
          "base_uri": "https://localhost:8080/"
        },
        "id": "0Eoxaf7_3hVo",
        "outputId": "c2d5198f-1e5d-464a-f1f4-56c1b937f418"
      },
      "source": [
        "cm = metrics.confusion_matrix(y_test, pred)\n",
        "print(cm)"
      ],
      "id": "0Eoxaf7_3hVo",
      "execution_count": 37,
      "outputs": [
        {
          "output_type": "stream",
          "text": [
            "[[3142  277]\n",
            " [ 304 2312]]\n"
          ],
          "name": "stdout"
        }
      ]
    },
    {
      "cell_type": "code",
      "metadata": {
        "id": "WAyJcTaZ4Jry"
      },
      "source": [
        ""
      ],
      "id": "WAyJcTaZ4Jry",
      "execution_count": null,
      "outputs": []
    }
  ]
}